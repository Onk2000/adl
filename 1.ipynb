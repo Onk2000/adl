{
  "nbformat": 4,
  "nbformat_minor": 0,
  "metadata": {
    "colab": {
      "provenance": []
    },
    "kernelspec": {
      "name": "python3",
      "display_name": "Python 3"
    },
    "language_info": {
      "name": "python"
    }
  },
  "cells": [
    {
      "cell_type": "code",
      "execution_count": 6,
      "metadata": {
        "colab": {
          "base_uri": "https://localhost:8080/"
        },
        "id": "amKzoE_sR_sz",
        "outputId": "dc3cbdc4-8c3a-4299-e79b-6148d2a8120a"
      },
      "outputs": [
        {
          "output_type": "stream",
          "name": "stdout",
          "text": [
            "Optimizer: sgd\n",
            "Test loss: 0.3641129732131958\n",
            "Test accuracy: 0.9666666388511658\n",
            "Optimizer: adam\n",
            "Test loss: 0.20671029388904572\n",
            "Test accuracy: 0.9666666388511658\n",
            "Optimizer: rmsprop\n",
            "Test loss: 0.12842340767383575\n",
            "Test accuracy: 0.9666666388511658\n",
            "\n",
            "Input values for the flower attributes:\n",
            "Sepal length (cm): 5\n",
            "Sepal width (cm): 10\n",
            "Petal length (cm): 11\n",
            "Petal width (cm): 6\n",
            "1/1 [==============================] - 0s 54ms/step\n",
            "\n",
            "Predicted class:  virginica\n",
            "Optimizer: sgd\n",
            "Test loss: 0.10463418811559677\n",
            "Test accuracy: 0.9666666388511658\n",
            "Memory requirement: 0.00 MB\n",
            "Optimizer: adam\n",
            "Test loss: 0.09328349679708481\n",
            "Test accuracy: 0.9666666388511658\n",
            "Memory requirement: 0.00 MB\n",
            "Optimizer: rmsprop\n",
            "Test loss: 0.08655805140733719\n",
            "Test accuracy: 0.9666666388511658\n",
            "Memory requirement: 0.00 MB\n"
          ]
        }
      ],
      "source": [
        "#Aim: Implement Feed-forward Neural Network and train the network with different optimizers and compare the results.\n",
        "import tensorflow as tf\n",
        "import numpy as np\n",
        "from sklearn.datasets import load_iris\n",
        "from sklearn.model_selection import train_test_split\n",
        "from sklearn.preprocessing import LabelBinarizer\n",
        "\n",
        "# Load Iris dataset\n",
        "iris = load_iris() # Loading Iris dataset into a variable.\n",
        "X = iris.data # Features of the dataset.\n",
        "y = iris.target # Class labels of the dataset.\n",
        "# One-hot encode labels\n",
        "lb = LabelBinarizer() # Creating an instance of LabelBinarizer class for one-hot encoding.\n",
        "y = lb.fit_transform(y) # One-hot encoding the class labels.\n",
        "\n",
        "# Split data into train and test sets\n",
        "X_train, X_test, y_train, y_test = train_test_split(X, y, test_size=0.2,random_state=42)\n",
        "# Splitting the dataset into training and testing sets with test size of 20%. # Define model architecture\n",
        "model = tf.keras.Sequential([\n",
        "# First hidden layer with 16 neurons and input shape of 4 features. ReLU activation function is used.\n",
        "tf.keras.layers.Dense(16, input_shape=(4,), activation='relu'),\n",
        "# Second hidden layer with 8 neurons. ReLU activation function is used.\n",
        "tf.keras.layers.Dense(8, activation='relu'),\n",
        "# Output layer with 3 neurons for 3 classes. Softmax activation function is used for multiclass␣classification task.\n",
        "tf.keras.layers.Dense(3, activation='softmax')\n",
        "])\n",
        "\n",
        "# Compile model with different optimizers\n",
        "optimizers = ['sgd', 'adam', 'rmsprop']\n",
        "# List of optimizers to be used for training the model.\n",
        "for optimizer in optimizers: # Looping over each optimizer.\n",
        "  # Compiling the model with 'categorical_crossentropy' as the loss function,the current optimizer and accuracy as the metric to be calculated.\n",
        "  model.compile(loss='categorical_crossentropy', optimizer=optimizer,\n",
        "  metrics=['accuracy']) # Train model\n",
        "  history = model.fit(X_train, y_train, validation_data=(X_test, y_test), epochs=50, verbose=0)\n",
        "  # Training the model for 50 epochs with verbose=0 to suppress the output.\n",
        "  # Evaluate model\n",
        "  loss, accuracy = model.evaluate(X_test, y_test, verbose=0) # Evaluating the model on the test set and calculating the loss and accuracy.\n",
        "  print('Optimizer:', optimizer) # Printing the optimizer name.\n",
        "  print('Test loss:', loss) # Printing the loss value on the test set.\n",
        "  print('Test accuracy:', accuracy) # Printing the accuracy value on the test set.\n",
        "\n",
        "# Allow user to input values for the flower attributes\n",
        "print('\\nInput values for the flower attributes:')\n",
        "sepal_length = float(input('Sepal length (cm): '))\n",
        "sepal_width = float(input('Sepal width (cm): '))\n",
        "petal_length = float(input('Petal length (cm): '))\n",
        "petal_width = float(input('Petal width (cm): '))\n",
        "\n",
        "# Predict class of flower based on input values\n",
        "input_values = np.array([[sepal_length, sepal_width, petal_length,petal_width]])\n",
        "prediction = model.predict(input_values)\n",
        "predicted_class = np.argmax(prediction)\n",
        "class_names = iris.target_names\n",
        "print('\\nPredicted class: ', class_names[predicted_class])\n",
        "\n",
        "#memory\n",
        "optimizers = {\n",
        "'sgd': tf.keras.optimizers.SGD(), 'adam': tf.keras.optimizers.Adam(), 'rmsprop': tf.keras.optimizers.RMSprop()\n",
        "}\n",
        "# Compile model with different optimizers\n",
        "for optimizer_name, optimizer in optimizers.items():\n",
        "  model.compile(loss='categorical_crossentropy', optimizer=optimizer, metrics=['accuracy'])\n",
        "  # Train model\n",
        "  history = model.fit(X_train, y_train, validation_data=(X_test, y_test), epochs=50, verbose=0)\n",
        "  # Evaluate model\n",
        "  loss, accuracy = model.evaluate(X_test, y_test, verbose=0)\n",
        "  print('Optimizer:', optimizer_name)\n",
        "  print('Test loss:', loss)\n",
        "  print('Test accuracy:', accuracy) # Estimate memory requirement\n",
        "  size_in_bytes = model.count_params() * 4 # each parameter is a 32-bit float\n",
        "  size_in_mb = size_in_bytes / (1024 * 1024)\n",
        "  print(f'Memory requirement: {size_in_mb:.2f} MB')"
      ]
    },
    {
      "cell_type": "code",
      "source": [],
      "metadata": {
        "id": "-dHU9AQSUWHZ"
      },
      "execution_count": null,
      "outputs": []
    }
  ]
}